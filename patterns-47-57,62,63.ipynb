{
 "cells": [
  {
   "cell_type": "code",
   "execution_count": null,
   "metadata": {},
   "outputs": [],
   "source": [
    "# 47) and 56) Write a program to display the below pattern, for n=4:\n",
    "# 1\n",
    "# 2 2\n",
    "# 3 3 3\n",
    "# 4 4 4 4\n",
    "\n",
    "n = int(input(\"n=\"))\n",
    "print(\"\")\n",
    "for i in range(1, n+1):\n",
    "  for j in range(1, i+1):\n",
    "    print(i, end=\" \")\n",
    "  print(\"\")\n",
    "\n"
   ]
  },
  {
   "cell_type": "code",
   "execution_count": null,
   "metadata": {},
   "outputs": [],
   "source": [
    "\n",
    "# 48) Write a program to display the below pattern, for n=4:\n",
    "#       1\n",
    "#     2 2\n",
    "#   3 3 3\n",
    "# 4 4 4 4\n",
    "\n",
    "n = int(input(\"n=\"))\n",
    "\n",
    "for i in range(1, n+1):\n",
    "  for j in range(1, n+2-i):\n",
    "    print(\" \", end=\"\")\n",
    "  for j in range(1, i+1):\n",
    "    print(i, end=\"\")\n",
    "\n",
    "  print(\"\")\n",
    "\n"
   ]
  },
  {
   "cell_type": "code",
   "execution_count": null,
   "metadata": {},
   "outputs": [],
   "source": [
    "\n",
    "# 49) Write a program to display the below pattern, for n=4:\n",
    "# 1 1 1 1\n",
    "# 2 2 2\n",
    "# 3 3\n",
    "# 4\n",
    "\n",
    "\n",
    "n = int(input(\"n=\"))\n",
    "print(\"\")\n",
    "for i in range(1, n+1):\n",
    "  for j in range(1, n+2-i):\n",
    "    print(i, end=\" \")\n",
    "  print(\"\")\n"
   ]
  },
  {
   "cell_type": "code",
   "execution_count": null,
   "metadata": {},
   "outputs": [],
   "source": [
    "\n",
    "# 50) Write a program to display the below pattern, for n=4:\n",
    "# 1 1 1 1\n",
    "# 2 2 2 2\n",
    "# 3 3 3 3\n",
    "# 4 4 4 4\n",
    "\n",
    "\n",
    "n = int(input(\"n=\"))\n",
    "print(\"\")\n",
    "for i in range(1, n+1):\n",
    "  for j in range(1, n+1):\n",
    "    print(i, end=\" \")\n",
    "  print(\"\")\n",
    "\n"
   ]
  },
  {
   "cell_type": "code",
   "execution_count": null,
   "metadata": {},
   "outputs": [],
   "source": [
    "\n",
    "# 51) Write a program to display the below pattern, for n=4:\n",
    "# 4 4 4 4\n",
    "# 3 3 3 3\n",
    "# 2 2 2 2\n",
    "# 1 1 1 1\n",
    "\n",
    "n = int(input(\"n=\"))\n",
    "print(\"\")\n",
    "i = 1\n",
    "a = n\n",
    "while i <= n:\n",
    "  j = 1\n",
    "  while j <= n:\n",
    "    print(a, end=\" \")\n",
    "    j = j+1\n",
    "  print(\"\")\n",
    "  i += 1\n",
    "  a -= 1\n",
    "\n"
   ]
  },
  {
   "cell_type": "code",
   "execution_count": null,
   "metadata": {},
   "outputs": [],
   "source": [
    "\n",
    "# 52) Write a program to display the below pattern, for n=4:\n",
    "# 1 2 3 4\n",
    "# 1 2 3\n",
    "# 1 2\n",
    "# 1\n",
    "\n",
    "n = int(input(\"n=\"))\n",
    "print(\"\")\n",
    "for i in range(1, n+1):\n",
    "  for j in range(1, n+2-i):\n",
    "    print(j, end=\" \")\n",
    "  print(\"\")\n"
   ]
  },
  {
   "cell_type": "code",
   "execution_count": null,
   "metadata": {},
   "outputs": [],
   "source": [
    "\n",
    "# 53) Write a program to display the below pattern, for n=4:\n",
    "# 4 4 4 4\n",
    "# 3 3 3\n",
    "# 2 2\n",
    "# 1\n",
    "\n",
    "n = int(input(\"n=\"))\n",
    "print(\"\")\n",
    "m = n\n",
    "for i in range(1, n+1):\n",
    "  for j in range(1, n+2-i):\n",
    "    print(m, end=\" \")\n",
    "  print(\"\")\n",
    "  m -= 1\n",
    "\n"
   ]
  },
  {
   "cell_type": "code",
   "execution_count": null,
   "metadata": {},
   "outputs": [],
   "source": [
    "\n",
    "# 54) Write a program to display the below pattern, for n=4:\n",
    "#       1\n",
    "#     2 2 2\n",
    "#   3 3 3 3 3\n",
    "# 4 4 4 4 4 4 4\n",
    "\n",
    "n = int(input(\"n=\"))\n",
    "print(\"\")\n",
    "for i in range(1, n+1):\n",
    "  for j in range(1, n+1-i):\n",
    "    print(\" \", end=\" \")\n",
    "  for j in range(1, 2*i):\n",
    "    print(i, end=\" \")\n",
    "\n",
    "  print(\"\")\n",
    "\n"
   ]
  },
  {
   "cell_type": "code",
   "execution_count": null,
   "metadata": {},
   "outputs": [],
   "source": [
    "\n",
    "# 55) Write a program to display the below pattern, for n=4:\n",
    "#         1\n",
    "#       2 2 2\n",
    "#     3 3 3 3 3\n",
    "#   4 4 4 4 4 4 4\n",
    "#     3 3 3 3 3\n",
    "#       2 2 2\n",
    "#         1\n",
    "\n",
    "n = int(input(\"n=\"))\n",
    "print(\"\")\n",
    "for i in range(1, n+1):\n",
    "  for j in range(1, n+1-i):\n",
    "    print(\" \", end=\" \")\n",
    "  for k in range(1, 2*i):\n",
    "    print(i, end=\" \")\n",
    "  print(\"\")\n",
    "m = n\n",
    "a = m-1\n",
    "for i in range(m, 1, -1):\n",
    "    for j in range(0, m-i+1):\n",
    "        print(\"  \", end=\"\")\n",
    "    for k in range(i, 2*i-1):\n",
    "        print(a, end=\" \")\n",
    "    for l in range(1, i-1):\n",
    "        print(a, end=\" \")\n",
    "    print()\n",
    "    a -= 1\n",
    "\n"
   ]
  },
  {
   "cell_type": "code",
   "execution_count": null,
   "metadata": {},
   "outputs": [],
   "source": [
    "\n",
    "# 57) Write a program to display the below pattern, for n=4:\n",
    "# * * *\n",
    "# * *\n",
    "# *\n",
    "# *\n",
    "\n",
    "n = int(input(\"n=\"))\n",
    "print(\"\")\n",
    "for i in range(1, n):\n",
    "  for j in range(1, n+1-i):\n",
    "    print(\"*\", end=\" \")\n",
    "  print(\"\")\n",
    "print(\"*\")\n"
   ]
  },
  {
   "cell_type": "code",
   "execution_count": null,
   "metadata": {},
   "outputs": [],
   "source": [
    "\n",
    "# 62) Write a program to display the below pattern, for n=4:\n",
    "# *\n",
    "# * *\n",
    "# * * *\n",
    "# * * * *\n",
    "\n",
    "n = int(input(\"n=\"))\n",
    "print(\"\")\n",
    "for i in range(1, n+1):\n",
    "  for j in range(1, i+1):\n",
    "    print(\"*\", end=\" \")\n",
    "  print(\"\")\n",
    "\n"
   ]
  },
  {
   "cell_type": "code",
   "execution_count": null,
   "metadata": {},
   "outputs": [],
   "source": [
    "\n",
    "# 63) Write a program to display the below pattern, for n=4:\n",
    "# 1\n",
    "# 1 2\n",
    "# 1 2 3\n",
    "# 1 2 3 4\n",
    "\n",
    "n = int(input(\"n=\"))\n",
    "print(\"\")\n",
    "for i in range(1, n+1):\n",
    "  for j in range(1, i+1):\n",
    "    print(j, end=\" \")\n",
    "  print(\"\")\n"
   ]
  }
 ],
 "metadata": {
  "kernelspec": {
   "display_name": "Python 3",
   "language": "python",
   "name": "python3"
  },
  "language_info": {
   "name": "python",
   "version": "3.11.1"
  },
  "orig_nbformat": 4,
  "vscode": {
   "interpreter": {
    "hash": "eb17841cca58ab7a013238054d0c760a311815deacab2b6a2fc503ca44a20a84"
   }
  }
 },
 "nbformat": 4,
 "nbformat_minor": 2
}
