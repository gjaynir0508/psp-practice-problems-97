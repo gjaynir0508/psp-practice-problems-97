{
 "cells": [
  {
   "cell_type": "code",
   "execution_count": 7,
   "metadata": {},
   "outputs": [
    {
     "name": "stdout",
     "output_type": "stream",
     "text": [
      "l1 + l2 = [1, 2, 3, 4, 5, 6]\n",
      "l1 * 3 = [1, 2, 3, 1, 2, 3, 1, 2, 3]\n",
      "s1 + s2 = 'Hello World'\n",
      "s1 * 4 = 'Hello Hello Hello Hello '\n",
      "t1 + t2 = (1, 2, 3, 4, 5, 6)\n",
      "t1 * 3 = (1, 2, 3, 1, 2, 3, 1, 2, 3)\n"
     ]
    }
   ],
   "source": [
    "# Q 93. Write a program to demonstrate + and * operators on sequences.\n",
    "# On sequences, + and * operators are overloaded to concatenate and repeat the sequences respectively.\n",
    "# The + operator concatenates two sequences to produce a new sequence. The * operator repeats a sequence to produce a new sequence.\n",
    "# Example:\n",
    "l1 = [1, 2, 3]\n",
    "l2 = [4, 5, 6]\n",
    "print(f\"{l1 + l2 = }\") # Output: l1 + l2 = [1, 2, 3, 4, 5, 6]\n",
    "print(f\"{l1 * 3 = }\") # Output: l1 * 3 = [1, 2, 3, 1, 2, 3, 1, 2, 3]\n",
    "\n",
    "s1 = \"Hello \"\n",
    "s2 = \"World\"\n",
    "print(f\"{s1 + s2 = }\") # Output: s1 + s2 = 'Hello World'\n",
    "print(f\"{s1 * 4 = }\") # Output: s1 * 4 = 'Hello Hello Hello Hello '\n",
    "\n",
    "t1 = (1, 2, 3)\n",
    "t2 = 4, 5, 6\n",
    "print(f\"{t1 + t2 = }\") # Output: t1 + t2 = (1, 2, 3, 4, 5, 6)\n",
    "print(f\"{t1 * 3 = }\") # Output: t1 * 3 = (1, 2, 3, 1, 2, 3, 1, 2, 3)\n",
    "\n",
    "# NOTE: Sets and Dictionaries do not support + and * operators.\n",
    "\n",
    "# In Technical Terms: The + operator is overloaded to concatenate two sequences. The * operator is overloaded to repeat a sequence."
   ]
  }
 ],
 "metadata": {
  "kernelspec": {
   "display_name": "Python 3",
   "language": "python",
   "name": "python3"
  },
  "language_info": {
   "codemirror_mode": {
    "name": "ipython",
    "version": 3
   },
   "file_extension": ".py",
   "mimetype": "text/x-python",
   "name": "python",
   "nbconvert_exporter": "python",
   "pygments_lexer": "ipython3",
   "version": "3.11.1"
  },
  "orig_nbformat": 4,
  "vscode": {
   "interpreter": {
    "hash": "eb17841cca58ab7a013238054d0c760a311815deacab2b6a2fc503ca44a20a84"
   }
  }
 },
 "nbformat": 4,
 "nbformat_minor": 2
}
