{
 "cells": [
  {
   "cell_type": "code",
   "execution_count": 21,
   "metadata": {},
   "outputs": [
    {
     "name": "stdout",
     "output_type": "stream",
     "text": [
      "i. int\n",
      "10 <class 'int'>\n",
      "8 <class 'int'>\n",
      "4 <class 'int'>\n",
      "11 <class 'int'>\n",
      "\n",
      "ii. float\n",
      "10.5 <class 'float'>\n",
      "0.0 <class 'float'>\n",
      "3.14 <class 'float'>\n",
      "\n",
      "iii. bool\n",
      "True <class 'bool'>\n",
      "False <class 'bool'>\n",
      "False <class 'bool'>\n",
      "True <class 'bool'>\n",
      "\n",
      "ii. complex\n",
      "(10+5j) <class 'complex'>\n",
      "(2+3j) <class 'complex'>\n",
      "(2+3j) <class 'complex'>\n",
      "Accessing real and imaginary parts of a complex number:\n",
      "d.real=10.0\n",
      "d.imag=5.0\n"
     ]
    }
   ],
   "source": [
    "# Q 1. Illustrate data types: int, float, bool, complex\n",
    "# i. int - represents integer numbers\n",
    "a = 10        # integer literal\n",
    "a1 = int(8.5) # integer from float using int() function\n",
    "a2 = int(\"4\") # integer from string\n",
    "a3 = int(\"0b1011\", 2) # integer from binary string (base 2)\n",
    "print(\"i. int\")\n",
    "print(a, type(a))\n",
    "print(a1, type(a1))\n",
    "print(a2, type(a2))\n",
    "print(a3, type(a3))\n",
    "\n",
    "\n",
    "# ii. float - represents real numbers\n",
    "b = 10.5\n",
    "b1= float(0)\n",
    "b2 = float(\"3.14\")\n",
    "print(\"\\nii. float\")\n",
    "print(b, type(b))\n",
    "print(b1, type(b1))\n",
    "print(b2, type(b2))\n",
    "\n",
    "\n",
    "# iii. bool - represents boolean values - True or False\n",
    "# NOTE: bool is a subclass of int - https://stackoverflow.com/a/37888668/16847857\n",
    "# boolean values are useful in conditional statements and loops and performing boolean algebra.\n",
    "c = True   # boolean literal\n",
    "c1 = False # boolean literal\n",
    "c2 = bool(0) # boolean from integer using bool() function # zero is False\n",
    "c3 = bool(-12) # boolean from integer using bool() function # any non-zero value is True\n",
    "print(\"\\niii. bool\")\n",
    "print(c, type(c))\n",
    "print(c1, type(c1))\n",
    "print(c2, type(c2))\n",
    "print(c3, type(c3))\n",
    "\n",
    "# INFO: Fasly values in Python\n",
    "# 1. False\n",
    "# 2. None\n",
    "# 3. Zero of any numeric type, for example, 0, 0.0, 0j.\n",
    "# 4. Any empty sequence, for example, '', (), [].\n",
    "# 5. Any empty mapping, for example, {}.\n",
    "# 6. Instances of user-defined classes, if the class defines a __bool__() or __len__() method, when that method returns the integer zero or bool value False.\n",
    "\n",
    "\n",
    "# iv. complex - represents complex numbers - <real> + <imaginary>j\n",
    "# where j is the imaginary unit (it is 'j' and not 'i'. inspired from electrical engineering)\n",
    "d = 10 + 5j # complex literal\n",
    "d1 = complex(2, 3) # complex from real and imaginary parts\n",
    "d2 = complex(\"2+3j\") # complex from string\n",
    "\n",
    "print(\"\\nii. complex\")\n",
    "print(d, type(d))\n",
    "print(d1, type(d1))\n",
    "print(d2, type(d2))\n",
    "\n",
    "# We can access the real and imaginary parts of a complex number using the following attributes\n",
    "print(\"Accessing real and imaginary parts of a complex number:\")\n",
    "print(f\"{d.real=}\")\n",
    "print(f\"{d.imag=}\")\n",
    "\n",
    "# We can also use the following functions to convert between different data types\n",
    "# int(), float(), bool(), complex()\n",
    "\n"
   ]
  }
 ],
 "metadata": {
  "kernelspec": {
   "display_name": "Python 3",
   "language": "python",
   "name": "python3"
  },
  "language_info": {
   "codemirror_mode": {
    "name": "ipython",
    "version": 3
   },
   "file_extension": ".py",
   "mimetype": "text/x-python",
   "name": "python",
   "nbconvert_exporter": "python",
   "pygments_lexer": "ipython3",
   "version": "3.11.1"
  },
  "orig_nbformat": 4,
  "vscode": {
   "interpreter": {
    "hash": "eb17841cca58ab7a013238054d0c760a311815deacab2b6a2fc503ca44a20a84"
   }
  }
 },
 "nbformat": 4,
 "nbformat_minor": 2
}
