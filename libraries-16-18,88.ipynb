{
 "cells": [
  {
   "cell_type": "code",
   "execution_count": null,
   "metadata": {},
   "outputs": [],
   "source": [
    "# Q 16. Illustrate math: sqrt(), ceil(), floor(), pow(), fabs(), sin(), cos(), tan()\n",
    "# The math module in pythons standard module provides useful mathematical functions and constants which are highly optimized for performance.\n",
    "from math import sqrt, ceil, floor, pow, fabs, sin, cos, tan, pi\n",
    "\n",
    "# math.sqrt(x) -> Returns the square root of x\n",
    "print(f\"{sqrt(16) = }\")\n",
    "\n",
    "# math.ceil(x) -> Returns the smallest integer greater than or equal to given real number\n",
    "print(f\"{ceil(2.1) = }\")\n",
    "\n",
    "# math.floor(x) -> Returns the greatest integer smaller than or equal to given real number\n",
    "print(f\"{floor(3.9) = }\")\n",
    "\n",
    "# math.pow(x, y) -> Returns x ** y\n",
    "print(f\"{pow(2, 4) = }\")\n",
    "\n",
    "# math.fabs(x) -> Returns the absolute value of float x\n",
    "print(f\"{fabs(-3.48) = }\")\n",
    "\n",
    "# math.sin(theta), math.cos(theta) and math.tan(theta)\n",
    "# Return the trigonometric ratios\n",
    "# sine, cosine and tangent ratios of theta (radians) respectively\n",
    "print(f\"{sin(0) = }\")\n",
    "print(f\"{sin(0) = }\")\n",
    "print(f\"{cos(0) = }\")\n",
    "print(f\"{cos(0) = }\")\n",
    "print(f\"{tan(0) = }\")\n",
    "print(f\"{tan(0) = }\")\n",
    "\n",
    "# NOTE: with f-strings (formatted strings with f-flag), f'{x=}' creates a string 'x=' +  x\n"
   ]
  },
  {
   "cell_type": "code",
   "execution_count": null,
   "metadata": {},
   "outputs": [],
   "source": [
    "# Q 17. Illustrate random: random(), randint(), randrange()\n",
    "# The random module in pythons standard library provides a way to generate pseudo-random numbers based on a seed.\n",
    "from random import random, randint, randrange\n",
    "\n",
    "# random.random() -> Returns a pseudo-random float X such that 0.0 <= X < 1\n",
    "print(f\"{random() = }\")\n",
    "\n",
    "# random.randint(a, b) -> Returns a pseudo-random integer X such that a <= X <= b\n",
    "print(f\"{randint(5, 10) = }\")\n",
    "\n",
    "# random.randrange(start, stop, step)\n",
    "# Returns a pseudo-random integer X such that X belongs to range(start, stop, step)\n",
    "print(f\"{randrange(30) = }\")  # X will be in range(30)\n",
    "print(f\"{randrange(2, 30) = }\")  # X will be in range(2, 30)\n",
    "print(f\"{randrange(2, 30, 3) = }\")  # X will be in range(2, 30, 3)\n",
    "\n",
    "# NOTE: with f-strings (formatted strings with f-flag), f'{x=}' creates a string 'x=' +  x\n"
   ]
  },
  {
   "cell_type": "code",
   "execution_count": null,
   "metadata": {},
   "outputs": [],
   "source": [
    "# Q 18. Illustrate statistics: mean(), median(), mode(), pstdev(), pvariance(), stdev(), variance()\n",
    "from statistics import mean, median, mode, pstdev, pvariance, stdev, variance\n",
    "\n",
    "# All the below mentioned functions in statistics raise StatisticsError if data is empty\n",
    "# statstics.mean(data) -> Returns Arithmetic mean (or) average of data. data should be a sequence or iterable\n",
    "print(f\"{mean([2, 3, 4, 5, 6]) = }\\n\")  # Output: 4\n",
    "# print(mean([])) # Raises StatisticsError\n",
    "\n",
    "# statstics.median(data) -> Returns Median of data\n",
    "print(f\"{median({2, 3, 4, 5, 6, 7}) = }\\n\")  # Output: 4.5\n",
    "# print(median(())) # Raises StatisticsError\n",
    "\n",
    "# statistics.mode(data) -> Returns Mode of data. If multiple modes are present, returns the first encountered mode. Prior to v3.8, multiple modes resulted in a StatisticsError\n",
    "# Output: 'red' # Because 'red' is the first encountered mode among 'red' and 'blue'\n",
    "print(f\"{mode(('red', 'blue', 'red', 'green', 'red', 'blue', 'blue')) = }\\n\")\n",
    "\n",
    "# statistics.pvariance(data) -> Returns the Population Variance of data (sequence or iterable)\n",
    "print(f\"{pvariance([2.75, 1.75, 1.25, 0.25, 0.5, 1.25, 3.5]) = }\\n\")\n",
    "\n",
    "# statistics.pstdev(data) -> Returns the square root of Population Variance of the data => Population Standard Deviation\n",
    "print(f\"{pstdev(data := [1.5, 2.5, 2.5, 2.75, 3.25, 4.75]) = }\\n\")\n",
    "\n",
    "# statistics.variance(data) -> Returns the Variance of data (sequence or iterable)\n",
    "print(f\"{variance([1.5, 2.5, 2.5, 2.75, 3.25, 4.75]) = }\\n\")\n",
    "\n",
    "# statistics.stdev(data) -> Returns the square root of Varaiance of data => Standard Deviation\n",
    "print(f\"{stdev([1.5, 2.5, 2.5, 2.75, 3.25, 4.75]) = }\")\n",
    "\n",
    "\n",
    "# NOTE: with f-strings (formatted strings with f-flag), f'{x=}' creates a string 'x=' +  x\n"
   ]
  },
  {
   "cell_type": "code",
   "execution_count": null,
   "metadata": {},
   "outputs": [],
   "source": [
    "# Q 88. Demonstrate any five functions of nympy module.\n",
    "import numpy\n",
    "# 1. numpy.array()  -> Creates a new numpy array from the iterable\n",
    "arr = numpy.array([1, 3, 7, 11])\n",
    "print(\"1. numpy.array()\")\n",
    "print(arr)\n",
    "\n",
    "# 2. numpy.zeros()  -> Creates a Null Matrix with given shape (rows x columns)\n",
    "z_arr = numpy.zeros((3, 4))\n",
    "print(\"\\n2. numpy.zeros()\")\n",
    "print(z_arr)\n",
    "\n",
    "# 3. numpy.arange() -> Creates a 1D Array with numbers in specified range\n",
    "ar_arr = numpy.arange(1, 10)\n",
    "print(\"\\n3. numpy.arange()\")\n",
    "print(ar_arr)\n",
    "\n",
    "# 4. numpy.linspace() -> Creates a 1D Array with given number of equally spaced numbers between specified start and stop\n",
    "ls_arr = numpy.linspace(3, 6, 11)\n",
    "print(\"\\n4. numpy.linspace()\")\n",
    "print(ls_arr)\n",
    "\n",
    "# 5. numpy.diag() -> Creates a diagonal matrix with given elements as diagonal elements\n",
    "d_arr = numpy.diag([1, 3, 7])\n",
    "print(\"\\n5. numpy.diag()\")\n",
    "print(d_arr)\n"
   ]
  }
 ],
 "metadata": {
  "kernelspec": {
   "display_name": "Python 3",
   "language": "python",
   "name": "python3"
  },
  "language_info": {
   "name": "python",
   "version": "3.11.1"
  },
  "orig_nbformat": 4,
  "vscode": {
   "interpreter": {
    "hash": "eb17841cca58ab7a013238054d0c760a311815deacab2b6a2fc503ca44a20a84"
   }
  }
 },
 "nbformat": 4,
 "nbformat_minor": 2
}
