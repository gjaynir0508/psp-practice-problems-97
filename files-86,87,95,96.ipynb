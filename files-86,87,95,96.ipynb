{
 "cells": [
  {
   "attachments": {},
   "cell_type": "markdown",
   "metadata": {},
   "source": [
    "To Experiment these below operations, please run this cell to first create the text file.\n"
   ]
  },
  {
   "cell_type": "code",
   "execution_count": 6,
   "metadata": {},
   "outputs": [
    {
     "name": "stdout",
     "output_type": "stream",
     "text": [
      "Created text.txt file. You can proceed to run other cells.\n"
     ]
    }
   ],
   "source": [
    "try:\n",
    "    with open(\"text.txt\", \"x\") as f:\n",
    "        f.write(\"Hello. This is line 1.\\n\")\n",
    "        f.write(\"This is line 2.\\n\")\n",
    "        f.write(\"Line 3.\\n\")\n",
    "        f.write(\"Line 4.\")\n",
    "        print(\"Created text.txt file. You can proceed to run other cells.\")\n",
    "except:\n",
    "    print(\"File Already Exists! You can proceed to run other cells.\")\n"
   ]
  },
  {
   "cell_type": "code",
   "execution_count": 9,
   "metadata": {},
   "outputs": [
    {
     "name": "stdout",
     "output_type": "stream",
     "text": [
      "H -> 1 \n",
      "e -> 5 \n",
      "l -> 4 \n",
      "o -> 1 \n",
      ". -> 5 \n",
      "  -> 9 (Space)\n",
      "T -> 2 \n",
      "h -> 2 \n",
      "i -> 8 \n",
      "s -> 4 \n",
      "n -> 4 \n",
      "1 -> 1 \n",
      "\\n -> 3 \n",
      "2 -> 1 \n",
      "L -> 2 \n",
      "3 -> 1 \n",
      "4 -> 1 \n"
     ]
    }
   ],
   "source": [
    "# Q 86. Write a program to read contents of a file and count the unique characters\n",
    "from collections import Counter\n",
    "try:\n",
    "    with open(\"text.txt\") as f:\n",
    "        text = f.read()\n",
    "        char_counter = Counter(text)\n",
    "        for char, count in char_counter.items():\n",
    "            print(\"\\\\n\" if char == \"\\n\" else char, \"->\",\n",
    "                  count, \"(Space)\" if char == \" \" else \"\")\n",
    "except:\n",
    "    print(\"Run the First Cell to create the dummy text file named 'text.txt' and then try running this cell again\")\n"
   ]
  },
  {
   "cell_type": "code",
   "execution_count": 10,
   "metadata": {},
   "outputs": [
    {
     "name": "stdout",
     "output_type": "stream",
     "text": [
      "Writing to copy.txt done!\n",
      "\n",
      "Contents of copy.txt:\n",
      "\n",
      "Hello. This is line 1.\n",
      "This is line 2.\n",
      "Line 3.\n",
      "Line 4.\n"
     ]
    }
   ],
   "source": [
    "# Q 87. Write a program to copy the contents of source file to destination file line by line\n",
    "try:\n",
    "    dest_file_name = input(\"Name of destination file:\\t\").strip()\n",
    "    with open(\"text.txt\", \"r\") as f, open(f\"{dest_file_name}.txt\", \"a\") as c:\n",
    "        for line in f.readlines():\n",
    "            c.write(line)\n",
    "\n",
    "    print(f\"Writing to {dest_file_name}.txt done!\\n\")\n",
    "\n",
    "    with open(f\"{dest_file_name}.txt\") as c:\n",
    "        print(f\"Contents of {dest_file_name}.txt:\\n\")\n",
    "        print(c.read())\n",
    "except:\n",
    "    print(\"Run the First Cell to create the dummy text file named 'text.txt' and then try running this cell again\")\n"
   ]
  },
  {
   "cell_type": "code",
   "execution_count": 11,
   "metadata": {},
   "outputs": [
    {
     "name": "stdout",
     "output_type": "stream",
     "text": [
      "The size of text.txt is: 54 Bytes\n"
     ]
    }
   ],
   "source": [
    "# Q 95. Write a Program to find the size of a text file\n",
    "try:\n",
    "    with open(\"text.txt\") as f:\n",
    "        text = f.read()\n",
    "        # Each character is of size 1 byte. So total size is 1 * len(text)\n",
    "        print(f\"The size of text.txt is: {len(text)} Bytes\")\n",
    "except:\n",
    "    print(\"Run the First Cell to create the dummy text file named 'text.txt' and then try running this cell again\")\n"
   ]
  },
  {
   "cell_type": "code",
   "execution_count": 12,
   "metadata": {},
   "outputs": [
    {
     "name": "stdout",
     "output_type": "stream",
     "text": [
      "Stream position initially -> 0\n",
      "Stream position after f.read(5) -> 5\n",
      "Stream position after f.seek(20) -> 20\n",
      "\tText from position 20\n",
      "b'1.\\r\\nT'\n",
      "\tText from position 25\n",
      "b' 3.\\r\\n'\n"
     ]
    }
   ],
   "source": [
    "# Q 96. Illustrate the usage of tell() and seek() functions\n",
    "from io import UnsupportedOperation\n",
    "#\n",
    "# fp.seek() and fp.tell() are helpful to read specific parts of the open file\n",
    "# fp.seek() helps us set the current stream position i.e., the number of characters moved till now\n",
    "# fp.tell() gives the current stream position\n",
    "#\n",
    "# Syntax:\n",
    "# fp.seek(target, whence)\n",
    "# target is an integer representing number of characters to move through\n",
    "# whence can have 3 values and represents the relative location to use:\n",
    "#    0 : From beginning\n",
    "#    1 : From current position  -> NOTE: For using values 1, 2 the file must be opened in 'b' mode. Exception is fp.seek(0, 2)\n",
    "#    2 : From end of file\n",
    "#\n",
    "# fp.tell()\n",
    "# returns the current stream position i.e, the number of characters read till now.\n",
    "try:\n",
    "    with open(\"text.txt\", \"br\") as f:\n",
    "        print(\"Stream position initially ->\", f.tell())\n",
    "        f.read(5)\n",
    "        print(\"Stream position after f.read(5) ->\", f.tell())\n",
    "        f.seek(20)\n",
    "        print(\"Stream position after f.seek(20) ->\", f.tell())\n",
    "        # Reading 5 characters from 20th position in file which was set as stream position using seek\n",
    "        print(\"\\tText from position 20\", f.read(5), sep=\"\\n\")\n",
    "        f.seek(20, 1)\n",
    "        # Reading 5 characters from 25th pos.\n",
    "        print(\"\\tText from position 25\", f.read(5), sep=\"\\n\")\n",
    "        f.seek(-10, 2)  # to set stream pos to 10th position from end of file\n",
    "except FileNotFoundError:\n",
    "    print(\"Run the First Cell to create the dummy text file named 'text.txt' and then try running this cell again\")\n",
    "except UnsupportedOperation:\n",
    "    print(\"Open the file in 'b' -> binary mode to use non-zero end-relative and cur-relative seeks\")\n"
   ]
  }
 ],
 "metadata": {
  "kernelspec": {
   "display_name": "Python 3",
   "language": "python",
   "name": "python3"
  },
  "language_info": {
   "codemirror_mode": {
    "name": "ipython",
    "version": 3
   },
   "file_extension": ".py",
   "mimetype": "text/x-python",
   "name": "python",
   "nbconvert_exporter": "python",
   "pygments_lexer": "ipython3",
   "version": "3.11.1"
  },
  "orig_nbformat": 4,
  "vscode": {
   "interpreter": {
    "hash": "eb17841cca58ab7a013238054d0c760a311815deacab2b6a2fc503ca44a20a84"
   }
  }
 },
 "nbformat": 4,
 "nbformat_minor": 2
}
